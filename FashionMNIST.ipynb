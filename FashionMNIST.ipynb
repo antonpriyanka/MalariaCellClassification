{
  "nbformat": 4,
  "nbformat_minor": 0,
  "metadata": {
    "colab": {
      "name": "ap3901_hw5_task2.ipynb",
      "provenance": [],
      "collapsed_sections": [],
      "toc_visible": true
    },
    "kernelspec": {
      "name": "python3",
      "display_name": "Python 3"
    },
    "accelerator": "GPU"
  },
  "cells": [
    {
      "cell_type": "code",
      "metadata": {
        "id": "NsIzDHivl-RK",
        "colab_type": "code",
        "outputId": "a60acc9a-8354-4673-813c-93c4025186ee",
        "colab": {
          "base_uri": "https://localhost:8080/",
          "height": 34
        }
      },
      "source": [
        "import keras\n",
        "import matplotlib.pyplot as plt\n",
        "from keras.models import Sequential\n",
        "from keras.layers import Dense, Activation"
      ],
      "execution_count": 0,
      "outputs": [
        {
          "output_type": "stream",
          "text": [
            "Using TensorFlow backend.\n"
          ],
          "name": "stderr"
        }
      ]
    },
    {
      "cell_type": "code",
      "metadata": {
        "id": "ztNJcAv2K1ZR",
        "colab_type": "code",
        "outputId": "3c747407-7819-43a5-fda1-02abf2c3880b",
        "colab": {
          "base_uri": "https://localhost:8080/",
          "height": 153
        }
      },
      "source": [
        "fashion_mnist = keras.datasets.fashion_mnist\n",
        "\n",
        "(train_images, train_labels), (test_images, test_labels) = fashion_mnist.load_data()"
      ],
      "execution_count": 0,
      "outputs": [
        {
          "output_type": "stream",
          "text": [
            "Downloading data from http://fashion-mnist.s3-website.eu-central-1.amazonaws.com/train-labels-idx1-ubyte.gz\n",
            "32768/29515 [=================================] - 0s 4us/step\n",
            "Downloading data from http://fashion-mnist.s3-website.eu-central-1.amazonaws.com/train-images-idx3-ubyte.gz\n",
            "26427392/26421880 [==============================] - 2s 0us/step\n",
            "Downloading data from http://fashion-mnist.s3-website.eu-central-1.amazonaws.com/t10k-labels-idx1-ubyte.gz\n",
            "8192/5148 [===============================================] - 0s 0us/step\n",
            "Downloading data from http://fashion-mnist.s3-website.eu-central-1.amazonaws.com/t10k-images-idx3-ubyte.gz\n",
            "4423680/4422102 [==============================] - 1s 0us/step\n"
          ],
          "name": "stdout"
        }
      ]
    },
    {
      "cell_type": "code",
      "metadata": {
        "id": "98D6wB-faHIk",
        "colab_type": "code",
        "colab": {}
      },
      "source": [
        "class_names = ['T-shirt/top', 'Trouser', 'Pullover', 'Dress', 'Coat',\n",
        "               'Sandal', 'Shirt', 'Sneaker', 'Bag', 'Ankle boot']"
      ],
      "execution_count": 0,
      "outputs": []
    },
    {
      "cell_type": "code",
      "metadata": {
        "id": "PtjyetFFlrkW",
        "colab_type": "code",
        "outputId": "069cb36e-7178-4270-bdae-4799a5e208de",
        "colab": {
          "base_uri": "https://localhost:8080/",
          "height": 51
        }
      },
      "source": [
        "print(train_images.shape)\n",
        "print(len(train_labels))"
      ],
      "execution_count": 0,
      "outputs": [
        {
          "output_type": "stream",
          "text": [
            "(60000, 28, 28)\n",
            "60000\n"
          ],
          "name": "stdout"
        }
      ]
    },
    {
      "cell_type": "code",
      "metadata": {
        "id": "dIUN98o8ludR",
        "colab_type": "code",
        "outputId": "a23566ff-6f2b-4e0e-c933-481a3ad6a15d",
        "colab": {
          "base_uri": "https://localhost:8080/",
          "height": 265
        }
      },
      "source": [
        "plt.figure()\n",
        "plt.imshow(train_images[9])\n",
        "plt.colorbar()\n",
        "plt.grid(False)\n",
        "plt.show()"
      ],
      "execution_count": 0,
      "outputs": [
        {
          "output_type": "display_data",
          "data": {
            "image/png": "[encoded data removed]",
            "text/plain": [
              "<Figure size 432x288 with 2 Axes>"
            ]
          },
          "metadata": {
            "tags": [],
            "needs_background": "light"
          }
        }
      ]
    },
    {
      "cell_type": "markdown",
      "metadata": {
        "id": "4MWHf-OanvkD",
        "colab_type": "text"
      },
      "source": [
        "The pixel value fall in the range of 0 to 255. So scaling these values to a range between 0 to 1."
      ]
    },
    {
      "cell_type": "code",
      "metadata": {
        "id": "_8axd0kbnhYJ",
        "colab_type": "code",
        "colab": {}
      },
      "source": [
        "train_images = train_images / 255.0\n",
        "\n",
        "test_images = test_images / 255.0"
      ],
      "execution_count": 0,
      "outputs": []
    },
    {
      "cell_type": "code",
      "metadata": {
        "id": "o0_IVVpMnlhM",
        "colab_type": "code",
        "outputId": "1f9775c0-16ba-4daa-8974-7d9b5e5e7fea",
        "colab": {
          "base_uri": "https://localhost:8080/",
          "height": 589
        }
      },
      "source": [
        "plt.figure(figsize=(10,10))\n",
        "for i in range(25):\n",
        "    plt.subplot(5,5,i+1)\n",
        "    plt.xticks([])\n",
        "    plt.yticks([])\n",
        "    plt.grid(False)\n",
        "    plt.imshow(train_images[i], cmap=plt.cm.binary)\n",
        "    plt.xlabel(class_names[train_labels[i]])\n",
        "plt.show()"
      ],
      "execution_count": 0,
      "outputs": [
        {
          "output_type": "display_data",
          "data": {
            "image/png": "[encoded data removed]",
            "text/plain": [
              "<Figure size 720x720 with 25 Axes>"
            ]
          },
          "metadata": {
            "tags": []
          }
        }
      ]
    },
    {
      "cell_type": "markdown",
      "metadata": {
        "id": "2OriuxypSoSN",
        "colab_type": "text"
      },
      "source": [
        "# Baseline model"
      ]
    },
    {
      "cell_type": "code",
      "metadata": {
        "id": "9VSoMqzfoJUd",
        "colab_type": "code",
        "colab": {}
      },
      "source": [
        "model = keras.Sequential([\n",
        "    keras.layers.Flatten(input_shape=(28, 28)),\n",
        "    keras.layers.Dense(128, activation='relu'),\n",
        "    keras.layers.Dense(10)\n",
        "])"
      ],
      "execution_count": 0,
      "outputs": []
    },
    {
      "cell_type": "code",
      "metadata": {
        "id": "i7CnOUbBoZl1",
        "colab_type": "code",
        "colab": {}
      },
      "source": [
        "model.compile(optimizer='adam',\n",
        "              loss=keras.losses.SparseCategoricalCrossentropy(from_logits=True),\n",
        "              metrics=['accuracy'])"
      ],
      "execution_count": 0,
      "outputs": []
    },
    {
      "cell_type": "code",
      "metadata": {
        "id": "RMFPuCirsQHm",
        "colab_type": "code",
        "outputId": "0eea519f-b065-4cd5-c8dc-4bced217a766",
        "colab": {
          "base_uri": "https://localhost:8080/",
          "height": 1000
        }
      },
      "source": [
        "model.fit(train_images, train_labels, epochs=30)"
      ],
      "execution_count": 0,
      "outputs": [
        {
          "output_type": "stream",
          "text": [
            "Epoch 1/30\n",
            "60000/60000 [==============================] - 4s 70us/step - loss: 0.4990 - accuracy: 0.8236\n",
            "Epoch 2/30\n",
            "60000/60000 [==============================] - 4s 70us/step - loss: 0.3756 - accuracy: 0.8634\n",
            "Epoch 3/30\n",
            "60000/60000 [==============================] - 4s 71us/step - loss: 0.3363 - accuracy: 0.8758\n",
            "Epoch 4/30\n",
            "60000/60000 [==============================] - 4s 70us/step - loss: 0.3117 - accuracy: 0.8854\n",
            "Epoch 5/30\n",
            "60000/60000 [==============================] - 4s 70us/step - loss: 0.2950 - accuracy: 0.8920\n",
            "Epoch 6/30\n",
            "60000/60000 [==============================] - 4s 70us/step - loss: 0.2804 - accuracy: 0.8973\n",
            "Epoch 7/30\n",
            "60000/60000 [==============================] - 4s 71us/step - loss: 0.2679 - accuracy: 0.9011\n",
            "Epoch 8/30\n",
            "60000/60000 [==============================] - 4s 72us/step - loss: 0.2576 - accuracy: 0.9041\n",
            "Epoch 9/30\n",
            "60000/60000 [==============================] - 4s 71us/step - loss: 0.2474 - accuracy: 0.9086\n",
            "Epoch 10/30\n",
            "60000/60000 [==============================] - 4s 70us/step - loss: 0.2387 - accuracy: 0.9111\n",
            "Epoch 11/30\n",
            "60000/60000 [==============================] - 4s 70us/step - loss: 0.2310 - accuracy: 0.9140\n",
            "Epoch 12/30\n",
            "60000/60000 [==============================] - 4s 70us/step - loss: 0.2246 - accuracy: 0.9158\n",
            "Epoch 13/30\n",
            "60000/60000 [==============================] - 4s 70us/step - loss: 0.2183 - accuracy: 0.9196\n",
            "Epoch 14/30\n",
            "60000/60000 [==============================] - 4s 70us/step - loss: 0.2116 - accuracy: 0.9216\n",
            "Epoch 15/30\n",
            "60000/60000 [==============================] - 4s 70us/step - loss: 0.2037 - accuracy: 0.9224\n",
            "Epoch 16/30\n",
            "60000/60000 [==============================] - 4s 71us/step - loss: 0.1971 - accuracy: 0.9252\n",
            "Epoch 17/30\n",
            "60000/60000 [==============================] - 4s 71us/step - loss: 0.1936 - accuracy: 0.9270\n",
            "Epoch 18/30\n",
            "60000/60000 [==============================] - 4s 70us/step - loss: 0.1877 - accuracy: 0.9291\n",
            "Epoch 19/30\n",
            "60000/60000 [==============================] - 4s 71us/step - loss: 0.1824 - accuracy: 0.9319\n",
            "Epoch 20/30\n",
            "60000/60000 [==============================] - 4s 73us/step - loss: 0.1787 - accuracy: 0.9334\n",
            "Epoch 21/30\n",
            "60000/60000 [==============================] - 4s 70us/step - loss: 0.1737 - accuracy: 0.9352\n",
            "Epoch 22/30\n",
            "60000/60000 [==============================] - 4s 70us/step - loss: 0.1704 - accuracy: 0.9362\n",
            "Epoch 23/30\n",
            "60000/60000 [==============================] - 4s 70us/step - loss: 0.1655 - accuracy: 0.9365\n",
            "Epoch 24/30\n",
            "60000/60000 [==============================] - 4s 71us/step - loss: 0.1629 - accuracy: 0.9376\n",
            "Epoch 25/30\n",
            "60000/60000 [==============================] - 4s 71us/step - loss: 0.1592 - accuracy: 0.9401\n",
            "Epoch 26/30\n",
            "60000/60000 [==============================] - 4s 70us/step - loss: 0.1536 - accuracy: 0.9426\n",
            "Epoch 27/30\n",
            "60000/60000 [==============================] - 4s 71us/step - loss: 0.1527 - accuracy: 0.9433\n",
            "Epoch 28/30\n",
            "60000/60000 [==============================] - 4s 71us/step - loss: 0.1470 - accuracy: 0.9438\n",
            "Epoch 29/30\n",
            "60000/60000 [==============================] - 4s 70us/step - loss: 0.1462 - accuracy: 0.9454\n",
            "Epoch 30/30\n",
            "60000/60000 [==============================] - 4s 70us/step - loss: 0.1415 - accuracy: 0.9463\n"
          ],
          "name": "stdout"
        },
        {
          "output_type": "execute_result",
          "data": {
            "text/plain": [
              "<keras.callbacks.callbacks.History at 0x7f315e86def0>"
            ]
          },
          "metadata": {
            "tags": []
          },
          "execution_count": 53
        }
      ]
    },
    {
      "cell_type": "code",
      "metadata": {
        "id": "Xcbezr-6oZwt",
        "colab_type": "code",
        "outputId": "8be0c1cd-bc8d-42ef-80c0-a6b38e211973",
        "colab": {
          "base_uri": "https://localhost:8080/",
          "height": 85
        }
      },
      "source": [
        "test_loss, test_acc = model.evaluate(test_images,  test_labels, verbose=2)\n",
        "\n",
        "print('\\nTest loss:', test_loss)\n",
        "print('\\nTest accuracy:', test_acc)"
      ],
      "execution_count": 0,
      "outputs": [
        {
          "output_type": "stream",
          "text": [
            "\n",
            "Test loss: 0.3902308100923896\n",
            "\n",
            "Test accuracy: 0.890999972820282\n"
          ],
          "name": "stdout"
        }
      ]
    },
    {
      "cell_type": "markdown",
      "metadata": {
        "id": "iCxrrSRnTmhY",
        "colab_type": "text"
      },
      "source": [
        "# Deeper neural network"
      ]
    },
    {
      "cell_type": "code",
      "metadata": {
        "id": "RmQVyCRHTqcL",
        "colab_type": "code",
        "colab": {}
      },
      "source": [
        "deeper_model = keras.Sequential([\n",
        "                                  keras.layers.Flatten(input_shape=(28, 28)),\n",
        "                                  keras.layers.Dense(128, activation='relu'),\n",
        "                                  keras.layers.Dense(128, activation='relu'),\n",
        "                                  keras.layers.Dense(128, activation='relu'),\n",
        "                                  keras.layers.Dense(128, activation='relu'),\n",
        "                                  keras.layers.Dense(10)\n",
        "                                  ])"
      ],
      "execution_count": 0,
      "outputs": []
    },
    {
      "cell_type": "code",
      "metadata": {
        "id": "oFEXlu6KT1fx",
        "colab_type": "code",
        "colab": {}
      },
      "source": [
        "deeper_model.compile(optimizer='adam',\n",
        "              loss=keras.losses.SparseCategoricalCrossentropy(from_logits=True),\n",
        "              metrics=['accuracy'])"
      ],
      "execution_count": 0,
      "outputs": []
    },
    {
      "cell_type": "code",
      "metadata": {
        "id": "R7St_S2OT6ID",
        "colab_type": "code",
        "outputId": "1a8119c3-524a-4917-9742-60f9b7ce9624",
        "colab": {
          "base_uri": "https://localhost:8080/",
          "height": 1000
        }
      },
      "source": [
        "deeper_model.fit(train_images, train_labels, epochs=30)"
      ],
      "execution_count": 0,
      "outputs": [
        {
          "output_type": "stream",
          "text": [
            "Epoch 1/30\n",
            "60000/60000 [==============================] - 6s 94us/step - loss: 0.4976 - accuracy: 0.8196\n",
            "Epoch 2/30\n",
            "60000/60000 [==============================] - 6s 94us/step - loss: 0.3729 - accuracy: 0.8632\n",
            "Epoch 3/30\n",
            "60000/60000 [==============================] - 6s 94us/step - loss: 0.3359 - accuracy: 0.8770\n",
            "Epoch 4/30\n",
            "60000/60000 [==============================] - 6s 92us/step - loss: 0.3133 - accuracy: 0.8854\n",
            "Epoch 5/30\n",
            "60000/60000 [==============================] - 6s 93us/step - loss: 0.2986 - accuracy: 0.8881\n",
            "Epoch 6/30\n",
            "60000/60000 [==============================] - 6s 92us/step - loss: 0.2830 - accuracy: 0.8937\n",
            "Epoch 7/30\n",
            "60000/60000 [==============================] - 6s 93us/step - loss: 0.2716 - accuracy: 0.8985\n",
            "Epoch 8/30\n",
            "60000/60000 [==============================] - 6s 95us/step - loss: 0.2606 - accuracy: 0.9021\n",
            "Epoch 9/30\n",
            "60000/60000 [==============================] - 6s 96us/step - loss: 0.2499 - accuracy: 0.9047\n",
            "Epoch 10/30\n",
            "60000/60000 [==============================] - 6s 92us/step - loss: 0.2422 - accuracy: 0.9080\n",
            "Epoch 11/30\n",
            "60000/60000 [==============================] - 6s 92us/step - loss: 0.2362 - accuracy: 0.9107\n",
            "Epoch 12/30\n",
            "60000/60000 [==============================] - 6s 93us/step - loss: 0.2278 - accuracy: 0.9123\n",
            "Epoch 13/30\n",
            "60000/60000 [==============================] - 6s 93us/step - loss: 0.2177 - accuracy: 0.9164\n",
            "Epoch 14/30\n",
            "60000/60000 [==============================] - 6s 92us/step - loss: 0.2168 - accuracy: 0.9166\n",
            "Epoch 15/30\n",
            "60000/60000 [==============================] - 6s 93us/step - loss: 0.2104 - accuracy: 0.9202\n",
            "Epoch 16/30\n",
            "60000/60000 [==============================] - 6s 93us/step - loss: 0.2031 - accuracy: 0.9227\n",
            "Epoch 17/30\n",
            "60000/60000 [==============================] - 6s 94us/step - loss: 0.1971 - accuracy: 0.9254\n",
            "Epoch 18/30\n",
            "60000/60000 [==============================] - 6s 93us/step - loss: 0.1910 - accuracy: 0.9269\n",
            "Epoch 19/30\n",
            "60000/60000 [==============================] - 6s 93us/step - loss: 0.1894 - accuracy: 0.9276\n",
            "Epoch 20/30\n",
            "60000/60000 [==============================] - 6s 93us/step - loss: 0.1855 - accuracy: 0.9282\n",
            "Epoch 21/30\n",
            "60000/60000 [==============================] - 6s 92us/step - loss: 0.1807 - accuracy: 0.9305\n",
            "Epoch 22/30\n",
            "60000/60000 [==============================] - 6s 93us/step - loss: 0.1762 - accuracy: 0.9320\n",
            "Epoch 23/30\n",
            "60000/60000 [==============================] - 6s 93us/step - loss: 0.1712 - accuracy: 0.9334\n",
            "Epoch 24/30\n",
            "60000/60000 [==============================] - 6s 93us/step - loss: 0.1663 - accuracy: 0.9357\n",
            "Epoch 25/30\n",
            "60000/60000 [==============================] - 6s 92us/step - loss: 0.1656 - accuracy: 0.9352\n",
            "Epoch 26/30\n",
            "60000/60000 [==============================] - 6s 92us/step - loss: 0.1655 - accuracy: 0.9373\n",
            "Epoch 27/30\n",
            "60000/60000 [==============================] - 6s 97us/step - loss: 0.1604 - accuracy: 0.9379\n",
            "Epoch 28/30\n",
            "60000/60000 [==============================] - 6s 98us/step - loss: 0.1551 - accuracy: 0.9396\n",
            "Epoch 29/30\n",
            "60000/60000 [==============================] - 6s 93us/step - loss: 0.1519 - accuracy: 0.9419\n",
            "Epoch 30/30\n",
            "60000/60000 [==============================] - 6s 93us/step - loss: 0.1514 - accuracy: 0.9418\n"
          ],
          "name": "stdout"
        },
        {
          "output_type": "execute_result",
          "data": {
            "text/plain": [
              "<keras.callbacks.callbacks.History at 0x7f315e648390>"
            ]
          },
          "metadata": {
            "tags": []
          },
          "execution_count": 58
        }
      ]
    },
    {
      "cell_type": "code",
      "metadata": {
        "id": "mbIS2ZyBTyCH",
        "colab_type": "code",
        "outputId": "172903f0-6467-4a40-cf28-2f4230c40b9b",
        "colab": {
          "base_uri": "https://localhost:8080/",
          "height": 85
        }
      },
      "source": [
        "test_loss, test_acc = deeper_model.evaluate(test_images,  test_labels, verbose=2)\n",
        "\n",
        "print('\\nTest loss:', test_loss)\n",
        "print('\\nTest accuracy:', test_acc)"
      ],
      "execution_count": 0,
      "outputs": [
        {
          "output_type": "stream",
          "text": [
            "\n",
            "Test loss: 0.41746137037873265\n",
            "\n",
            "Test accuracy: 0.8937000036239624\n"
          ],
          "name": "stdout"
        }
      ]
    },
    {
      "cell_type": "markdown",
      "metadata": {
        "id": "HPAfqAJTVCv8",
        "colab_type": "text"
      },
      "source": [
        "With a deeper neural network the Test loss has increased and the accuracy is pretty much the same. We need the loss to be small and the accuracy to be high, so the deeper network performed a little worse than the baseline model."
      ]
    },
    {
      "cell_type": "markdown",
      "metadata": {
        "id": "13KJNAkolFir",
        "colab_type": "text"
      },
      "source": [
        "# Dropout model"
      ]
    },
    {
      "cell_type": "code",
      "metadata": {
        "id": "KdQiM-WPku3e",
        "colab_type": "code",
        "colab": {}
      },
      "source": [
        "dropout_model = keras.Sequential([\n",
        "                                  keras.layers.Flatten(input_shape=(28, 28)),\n",
        "                                  keras.layers.Dense(128, activation='relu'),\n",
        "                                  keras.layers.Dense(128, activation='relu'),\n",
        "                                  keras.layers.Dropout(0.25),\n",
        "                                  keras.layers.Dense(128, activation='relu'),\n",
        "                                  keras.layers.Dense(128, activation='relu'),\n",
        "                                  keras.layers.Dropout(0.25),\n",
        "                                  keras.layers.Dense(10)\n",
        "                                  ])"
      ],
      "execution_count": 0,
      "outputs": []
    },
    {
      "cell_type": "code",
      "metadata": {
        "id": "7W_M9u9ylHid",
        "colab_type": "code",
        "colab": {}
      },
      "source": [
        "dropout_model.compile(optimizer='adam',\n",
        "              loss=keras.losses.SparseCategoricalCrossentropy(from_logits=True),\n",
        "              metrics=['accuracy'])"
      ],
      "execution_count": 0,
      "outputs": []
    },
    {
      "cell_type": "code",
      "metadata": {
        "id": "MDR4a2b7lL6Z",
        "colab_type": "code",
        "outputId": "cf476fee-1d02-4669-909e-ffd5832fa809",
        "colab": {
          "base_uri": "https://localhost:8080/",
          "height": 1000
        }
      },
      "source": [
        "dropout_model.fit(train_images, train_labels, epochs=30)"
      ],
      "execution_count": 0,
      "outputs": [
        {
          "output_type": "stream",
          "text": [
            "Epoch 1/30\n",
            "60000/60000 [==============================] - 6s 105us/step - loss: 0.5641 - accuracy: 0.7944\n",
            "Epoch 2/30\n",
            "60000/60000 [==============================] - 6s 101us/step - loss: 0.4052 - accuracy: 0.8538\n",
            "Epoch 3/30\n",
            "60000/60000 [==============================] - 6s 101us/step - loss: 0.3683 - accuracy: 0.8681\n",
            "Epoch 4/30\n",
            "60000/60000 [==============================] - 6s 101us/step - loss: 0.3427 - accuracy: 0.8757\n",
            "Epoch 5/30\n",
            "60000/60000 [==============================] - 6s 101us/step - loss: 0.3272 - accuracy: 0.8809\n",
            "Epoch 6/30\n",
            "60000/60000 [==============================] - 6s 101us/step - loss: 0.3117 - accuracy: 0.8871\n",
            "Epoch 7/30\n",
            "60000/60000 [==============================] - 6s 102us/step - loss: 0.3055 - accuracy: 0.8887\n",
            "Epoch 8/30\n",
            "60000/60000 [==============================] - 6s 105us/step - loss: 0.2955 - accuracy: 0.8916\n",
            "Epoch 9/30\n",
            "60000/60000 [==============================] - 6s 102us/step - loss: 0.2847 - accuracy: 0.8960\n",
            "Epoch 10/30\n",
            "60000/60000 [==============================] - 6s 102us/step - loss: 0.2796 - accuracy: 0.8976\n",
            "Epoch 11/30\n",
            "60000/60000 [==============================] - 6s 103us/step - loss: 0.2709 - accuracy: 0.8999\n",
            "Epoch 12/30\n",
            "60000/60000 [==============================] - 6s 103us/step - loss: 0.2661 - accuracy: 0.9015\n",
            "Epoch 13/30\n",
            "60000/60000 [==============================] - 6s 101us/step - loss: 0.2609 - accuracy: 0.9031\n",
            "Epoch 14/30\n",
            "60000/60000 [==============================] - 6s 102us/step - loss: 0.2559 - accuracy: 0.9069\n",
            "Epoch 15/30\n",
            "60000/60000 [==============================] - 6s 102us/step - loss: 0.2510 - accuracy: 0.9088\n",
            "Epoch 16/30\n",
            "60000/60000 [==============================] - 6s 102us/step - loss: 0.2461 - accuracy: 0.9092\n",
            "Epoch 17/30\n",
            "60000/60000 [==============================] - 6s 102us/step - loss: 0.2406 - accuracy: 0.9107\n",
            "Epoch 18/30\n",
            "60000/60000 [==============================] - 6s 102us/step - loss: 0.2383 - accuracy: 0.9125\n",
            "Epoch 19/30\n",
            "60000/60000 [==============================] - 6s 102us/step - loss: 0.2358 - accuracy: 0.9135\n",
            "Epoch 20/30\n",
            "60000/60000 [==============================] - 6s 102us/step - loss: 0.2349 - accuracy: 0.9141\n",
            "Epoch 21/30\n",
            "60000/60000 [==============================] - 6s 103us/step - loss: 0.2301 - accuracy: 0.9149\n",
            "Epoch 22/30\n",
            "60000/60000 [==============================] - 6s 103us/step - loss: 0.2276 - accuracy: 0.9156\n",
            "Epoch 23/30\n",
            "60000/60000 [==============================] - 6s 103us/step - loss: 0.2206 - accuracy: 0.9179\n",
            "Epoch 24/30\n",
            "60000/60000 [==============================] - 6s 104us/step - loss: 0.2221 - accuracy: 0.9180\n",
            "Epoch 25/30\n",
            "60000/60000 [==============================] - 6s 103us/step - loss: 0.2183 - accuracy: 0.9197\n",
            "Epoch 26/30\n",
            "60000/60000 [==============================] - 6s 102us/step - loss: 0.2141 - accuracy: 0.9201\n",
            "Epoch 27/30\n",
            "60000/60000 [==============================] - 6s 103us/step - loss: 0.2127 - accuracy: 0.9197\n",
            "Epoch 28/30\n",
            "60000/60000 [==============================] - 6s 107us/step - loss: 0.2108 - accuracy: 0.9218\n",
            "Epoch 29/30\n",
            "60000/60000 [==============================] - 6s 105us/step - loss: 0.2058 - accuracy: 0.9237\n",
            "Epoch 30/30\n",
            "60000/60000 [==============================] - 6s 102us/step - loss: 0.2048 - accuracy: 0.9230\n"
          ],
          "name": "stdout"
        },
        {
          "output_type": "execute_result",
          "data": {
            "text/plain": [
              "<keras.callbacks.callbacks.History at 0x7f315e2db860>"
            ]
          },
          "metadata": {
            "tags": []
          },
          "execution_count": 70
        }
      ]
    },
    {
      "cell_type": "code",
      "metadata": {
        "id": "F797elOXmGJG",
        "colab_type": "code",
        "outputId": "16383d9f-78c3-42b4-aa54-4b45260c13df",
        "colab": {
          "base_uri": "https://localhost:8080/",
          "height": 85
        }
      },
      "source": [
        "test_loss, test_acc = dropout_model.evaluate(test_images,  test_labels, verbose=2)\n",
        "\n",
        "print('\\nTest loss:', test_loss)\n",
        "print('\\nTest accuracy:', test_acc)"
      ],
      "execution_count": 0,
      "outputs": [
        {
          "output_type": "stream",
          "text": [
            "\n",
            "Test loss: 0.3689968435049057\n",
            "\n",
            "Test accuracy: 0.8888999819755554\n"
          ],
          "name": "stdout"
        }
      ]
    },
    {
      "cell_type": "markdown",
      "metadata": {
        "id": "fACqsUvyYz1_",
        "colab_type": "text"
      },
      "source": [
        "The Test loss has reduced a lot which is a good thing. The accuracy remains somewhat closer to the previous models. So dropout does help to avoid overfitting."
      ]
    },
    {
      "cell_type": "markdown",
      "metadata": {
        "id": "YoE-rFRWMPGQ",
        "colab_type": "text"
      },
      "source": [
        "# Batch normalization"
      ]
    },
    {
      "cell_type": "code",
      "metadata": {
        "id": "0LWPDWHbMOgd",
        "colab_type": "code",
        "colab": {}
      },
      "source": [
        "batch_norm_model = keras.Sequential([\n",
        "                                  keras.layers.Flatten(input_shape=(28, 28)),\n",
        "                                  keras.layers.Dense(128, activation='relu'),\n",
        "                                  keras.layers.Dense(128, activation='relu'),\n",
        "                                  keras.layers.Dense(128, activation='relu'),\n",
        "                                  keras.layers.Dense(128, activation='relu'),\n",
        "                                  keras.layers.BatchNormalization(),\n",
        "                                  keras.layers.Dense(10)\n",
        "                                  ])"
      ],
      "execution_count": 0,
      "outputs": []
    },
    {
      "cell_type": "code",
      "metadata": {
        "id": "UnFgHRwQMhL2",
        "colab_type": "code",
        "colab": {}
      },
      "source": [
        "batch_norm_model.compile(optimizer='adam',\n",
        "              loss=keras.losses.SparseCategoricalCrossentropy(from_logits=True),\n",
        "              metrics=['accuracy'])"
      ],
      "execution_count": 0,
      "outputs": []
    },
    {
      "cell_type": "code",
      "metadata": {
        "id": "uvP7OscTMkp5",
        "colab_type": "code",
        "outputId": "d725f22a-ad98-4f55-81f9-54094a51bb4c",
        "colab": {
          "base_uri": "https://localhost:8080/",
          "height": 1000
        }
      },
      "source": [
        "batch_norm_model.fit(train_images, train_labels, epochs=30)"
      ],
      "execution_count": 0,
      "outputs": [
        {
          "output_type": "stream",
          "text": [
            "Epoch 1/30\n",
            "60000/60000 [==============================] - 8s 125us/step - loss: 0.4931 - accuracy: 0.8260\n",
            "Epoch 2/30\n",
            "60000/60000 [==============================] - 7s 121us/step - loss: 0.3879 - accuracy: 0.8577\n",
            "Epoch 3/30\n",
            "60000/60000 [==============================] - 8s 128us/step - loss: 0.3538 - accuracy: 0.8716\n",
            "Epoch 4/30\n",
            "60000/60000 [==============================] - 7s 124us/step - loss: 0.3310 - accuracy: 0.8787\n",
            "Epoch 5/30\n",
            "60000/60000 [==============================] - 7s 122us/step - loss: 0.3101 - accuracy: 0.8855\n",
            "Epoch 6/30\n",
            "60000/60000 [==============================] - 7s 122us/step - loss: 0.2946 - accuracy: 0.8903\n",
            "Epoch 7/30\n",
            "60000/60000 [==============================] - 7s 122us/step - loss: 0.2841 - accuracy: 0.8943\n",
            "Epoch 8/30\n",
            "60000/60000 [==============================] - 7s 122us/step - loss: 0.2726 - accuracy: 0.8995\n",
            "Epoch 9/30\n",
            "60000/60000 [==============================] - 7s 122us/step - loss: 0.2634 - accuracy: 0.9029\n",
            "Epoch 10/30\n",
            "60000/60000 [==============================] - 7s 121us/step - loss: 0.2541 - accuracy: 0.9042\n",
            "Epoch 11/30\n",
            "60000/60000 [==============================] - 7s 121us/step - loss: 0.2450 - accuracy: 0.9082\n",
            "Epoch 12/30\n",
            "60000/60000 [==============================] - 7s 123us/step - loss: 0.2374 - accuracy: 0.9115\n",
            "Epoch 13/30\n",
            "60000/60000 [==============================] - 7s 122us/step - loss: 0.2289 - accuracy: 0.9147\n",
            "Epoch 14/30\n",
            "60000/60000 [==============================] - 7s 121us/step - loss: 0.2261 - accuracy: 0.9153\n",
            "Epoch 15/30\n",
            "60000/60000 [==============================] - 7s 120us/step - loss: 0.2166 - accuracy: 0.9185\n",
            "Epoch 16/30\n",
            "60000/60000 [==============================] - 7s 121us/step - loss: 0.2096 - accuracy: 0.9209\n",
            "Epoch 17/30\n",
            "60000/60000 [==============================] - 7s 121us/step - loss: 0.2054 - accuracy: 0.9226\n",
            "Epoch 18/30\n",
            "60000/60000 [==============================] - 7s 121us/step - loss: 0.2040 - accuracy: 0.9239\n",
            "Epoch 19/30\n",
            "60000/60000 [==============================] - 7s 121us/step - loss: 0.1963 - accuracy: 0.9250\n",
            "Epoch 20/30\n",
            "60000/60000 [==============================] - 7s 120us/step - loss: 0.1900 - accuracy: 0.9281\n",
            "Epoch 21/30\n",
            "60000/60000 [==============================] - 7s 121us/step - loss: 0.1871 - accuracy: 0.9289\n",
            "Epoch 22/30\n",
            "60000/60000 [==============================] - 7s 122us/step - loss: 0.1798 - accuracy: 0.9329\n",
            "Epoch 23/30\n",
            "60000/60000 [==============================] - 7s 123us/step - loss: 0.1758 - accuracy: 0.9324\n",
            "Epoch 24/30\n",
            "60000/60000 [==============================] - 7s 122us/step - loss: 0.1722 - accuracy: 0.9336\n",
            "Epoch 25/30\n",
            "60000/60000 [==============================] - 7s 121us/step - loss: 0.1674 - accuracy: 0.9361\n",
            "Epoch 26/30\n",
            "60000/60000 [==============================] - 7s 122us/step - loss: 0.1629 - accuracy: 0.9375\n",
            "Epoch 27/30\n",
            "60000/60000 [==============================] - 7s 123us/step - loss: 0.1616 - accuracy: 0.9384\n",
            "Epoch 28/30\n",
            "60000/60000 [==============================] - 7s 122us/step - loss: 0.1550 - accuracy: 0.9411\n",
            "Epoch 29/30\n",
            "60000/60000 [==============================] - 7s 121us/step - loss: 0.1561 - accuracy: 0.9403\n",
            "Epoch 30/30\n",
            "60000/60000 [==============================] - 7s 121us/step - loss: 0.1524 - accuracy: 0.9415\n"
          ],
          "name": "stdout"
        },
        {
          "output_type": "execute_result",
          "data": {
            "text/plain": [
              "<keras.callbacks.callbacks.History at 0x7f315e1ba2e8>"
            ]
          },
          "metadata": {
            "tags": []
          },
          "execution_count": 74
        }
      ]
    },
    {
      "cell_type": "code",
      "metadata": {
        "id": "z87gwOtQMmT7",
        "colab_type": "code",
        "outputId": "c991bfa3-c0a2-4ae0-c34a-396ddb8fcc34",
        "colab": {
          "base_uri": "https://localhost:8080/",
          "height": 85
        }
      },
      "source": [
        "test_loss, test_acc = batch_norm_model.evaluate(test_images,  test_labels, verbose=2)\n",
        "\n",
        "print('\\nTest loss:', test_loss)\n",
        "print('\\nTest accuracy:', test_acc)"
      ],
      "execution_count": 0,
      "outputs": [
        {
          "output_type": "stream",
          "text": [
            "\n",
            "Test loss: 0.35735199528336525\n",
            "\n",
            "Test accuracy: 0.8931999802589417\n"
          ],
          "name": "stdout"
        }
      ]
    },
    {
      "cell_type": "markdown",
      "metadata": {
        "id": "K4Gaaz3bbmqW",
        "colab_type": "text"
      },
      "source": [
        "Batch normalization has further reduced the Test loss and has given a good accuracy as well."
      ]
    },
    {
      "cell_type": "markdown",
      "metadata": {
        "id": "W1gWXOMab7Eo",
        "colab_type": "text"
      },
      "source": [
        "# Learning curves for all three"
      ]
    },
    {
      "cell_type": "code",
      "metadata": {
        "id": "N6Zss3I8QclD",
        "colab_type": "code",
        "outputId": "aa88c60b-7a58-4874-bc74-d29054a4096e",
        "colab": {
          "base_uri": "https://localhost:8080/",
          "height": 1000
        }
      },
      "source": [
        "history_base = model.fit(train_images, train_labels, epochs=30, validation_data = (test_images, test_labels))"
      ],
      "execution_count": 0,
      "outputs": [
        {
          "output_type": "stream",
          "text": [
            "Train on 60000 samples, validate on 10000 samples\n",
            "Epoch 1/30\n",
            "60000/60000 [==============================] - 5s 77us/step - loss: 0.4959 - accuracy: 0.8278 - val_loss: 0.4426 - val_accuracy: 0.8362\n",
            "Epoch 2/30\n",
            "60000/60000 [==============================] - 5s 77us/step - loss: 0.3759 - accuracy: 0.8646 - val_loss: 0.3951 - val_accuracy: 0.8563\n",
            "Epoch 3/30\n",
            "60000/60000 [==============================] - 5s 81us/step - loss: 0.3365 - accuracy: 0.8783 - val_loss: 0.3624 - val_accuracy: 0.8679\n",
            "Epoch 4/30\n",
            "60000/60000 [==============================] - 5s 77us/step - loss: 0.3116 - accuracy: 0.8866 - val_loss: 0.3635 - val_accuracy: 0.8655\n",
            "Epoch 5/30\n",
            "60000/60000 [==============================] - 5s 77us/step - loss: 0.2961 - accuracy: 0.8906 - val_loss: 0.3445 - val_accuracy: 0.8747\n",
            "Epoch 6/30\n",
            "60000/60000 [==============================] - 5s 77us/step - loss: 0.2784 - accuracy: 0.8972 - val_loss: 0.3588 - val_accuracy: 0.8725\n",
            "Epoch 7/30\n",
            "60000/60000 [==============================] - 5s 78us/step - loss: 0.2680 - accuracy: 0.9015 - val_loss: 0.3477 - val_accuracy: 0.8764\n",
            "Epoch 8/30\n",
            "60000/60000 [==============================] - 5s 77us/step - loss: 0.2576 - accuracy: 0.9037 - val_loss: 0.3474 - val_accuracy: 0.8775\n",
            "Epoch 9/30\n",
            "60000/60000 [==============================] - 5s 75us/step - loss: 0.2485 - accuracy: 0.9071 - val_loss: 0.3443 - val_accuracy: 0.8814\n",
            "Epoch 10/30\n",
            "60000/60000 [==============================] - 5s 76us/step - loss: 0.2397 - accuracy: 0.9105 - val_loss: 0.3323 - val_accuracy: 0.8823\n",
            "Epoch 11/30\n",
            "60000/60000 [==============================] - 5s 75us/step - loss: 0.2310 - accuracy: 0.9127 - val_loss: 0.3296 - val_accuracy: 0.8859\n",
            "Epoch 12/30\n",
            "60000/60000 [==============================] - 5s 76us/step - loss: 0.2227 - accuracy: 0.9158 - val_loss: 0.3320 - val_accuracy: 0.8873\n",
            "Epoch 13/30\n",
            "60000/60000 [==============================] - 5s 75us/step - loss: 0.2171 - accuracy: 0.9188 - val_loss: 0.3262 - val_accuracy: 0.8869\n",
            "Epoch 14/30\n",
            "60000/60000 [==============================] - 5s 76us/step - loss: 0.2103 - accuracy: 0.9218 - val_loss: 0.3290 - val_accuracy: 0.8856\n",
            "Epoch 15/30\n",
            "60000/60000 [==============================] - 5s 75us/step - loss: 0.2050 - accuracy: 0.9235 - val_loss: 0.3405 - val_accuracy: 0.8869\n",
            "Epoch 16/30\n",
            "60000/60000 [==============================] - 5s 76us/step - loss: 0.1989 - accuracy: 0.9254 - val_loss: 0.3630 - val_accuracy: 0.8820\n",
            "Epoch 17/30\n",
            "60000/60000 [==============================] - 5s 75us/step - loss: 0.1938 - accuracy: 0.9273 - val_loss: 0.3358 - val_accuracy: 0.8876\n",
            "Epoch 18/30\n",
            "60000/60000 [==============================] - 5s 76us/step - loss: 0.1877 - accuracy: 0.9291 - val_loss: 0.3486 - val_accuracy: 0.8839\n",
            "Epoch 19/30\n",
            "60000/60000 [==============================] - 5s 76us/step - loss: 0.1840 - accuracy: 0.9320 - val_loss: 0.3615 - val_accuracy: 0.8852\n",
            "Epoch 20/30\n",
            "60000/60000 [==============================] - 5s 76us/step - loss: 0.1799 - accuracy: 0.9321 - val_loss: 0.3547 - val_accuracy: 0.8891\n",
            "Epoch 21/30\n",
            "60000/60000 [==============================] - 5s 76us/step - loss: 0.1755 - accuracy: 0.9340 - val_loss: 0.3624 - val_accuracy: 0.8888\n",
            "Epoch 22/30\n",
            "60000/60000 [==============================] - 5s 76us/step - loss: 0.1726 - accuracy: 0.9350 - val_loss: 0.3841 - val_accuracy: 0.8778\n",
            "Epoch 23/30\n",
            "60000/60000 [==============================] - 5s 76us/step - loss: 0.1673 - accuracy: 0.9380 - val_loss: 0.3799 - val_accuracy: 0.8855\n",
            "Epoch 24/30\n",
            "60000/60000 [==============================] - 5s 77us/step - loss: 0.1633 - accuracy: 0.9384 - val_loss: 0.3836 - val_accuracy: 0.8793\n",
            "Epoch 25/30\n",
            "60000/60000 [==============================] - 5s 77us/step - loss: 0.1606 - accuracy: 0.9405 - val_loss: 0.3950 - val_accuracy: 0.8799\n",
            "Epoch 26/30\n",
            "60000/60000 [==============================] - 5s 77us/step - loss: 0.1563 - accuracy: 0.9412 - val_loss: 0.3748 - val_accuracy: 0.8822\n",
            "Epoch 27/30\n",
            "60000/60000 [==============================] - 5s 76us/step - loss: 0.1527 - accuracy: 0.9431 - val_loss: 0.3731 - val_accuracy: 0.8866\n",
            "Epoch 28/30\n",
            "60000/60000 [==============================] - 5s 76us/step - loss: 0.1497 - accuracy: 0.9438 - val_loss: 0.3888 - val_accuracy: 0.8891\n",
            "Epoch 29/30\n",
            "60000/60000 [==============================] - 5s 76us/step - loss: 0.1472 - accuracy: 0.9447 - val_loss: 0.3826 - val_accuracy: 0.8859\n",
            "Epoch 30/30\n",
            "60000/60000 [==============================] - 5s 76us/step - loss: 0.1444 - accuracy: 0.9452 - val_loss: 0.3873 - val_accuracy: 0.8872\n"
          ],
          "name": "stdout"
        }
      ]
    },
    {
      "cell_type": "code",
      "metadata": {
        "id": "HmnZ74dfdfi3",
        "colab_type": "code",
        "outputId": "d29943e7-1022-4a29-f43d-3f888b467606",
        "colab": {
          "base_uri": "https://localhost:8080/",
          "height": 1000
        }
      },
      "source": [
        "history_dropout = dropout_model.fit(train_images, train_labels, epochs=30, validation_data = (test_images, test_labels))"
      ],
      "execution_count": 0,
      "outputs": [
        {
          "output_type": "stream",
          "text": [
            "Train on 60000 samples, validate on 10000 samples\n",
            "Epoch 1/30\n",
            "60000/60000 [==============================] - 7s 114us/step - loss: 0.5624 - accuracy: 0.7970 - val_loss: 0.4351 - val_accuracy: 0.8363\n",
            "Epoch 2/30\n",
            "60000/60000 [==============================] - 7s 110us/step - loss: 0.4055 - accuracy: 0.8530 - val_loss: 0.3869 - val_accuracy: 0.8620\n",
            "Epoch 3/30\n",
            "60000/60000 [==============================] - 7s 108us/step - loss: 0.3688 - accuracy: 0.8662 - val_loss: 0.3735 - val_accuracy: 0.8640\n",
            "Epoch 4/30\n",
            "60000/60000 [==============================] - 7s 109us/step - loss: 0.3424 - accuracy: 0.8756 - val_loss: 0.3809 - val_accuracy: 0.8675\n",
            "Epoch 5/30\n",
            "60000/60000 [==============================] - 7s 108us/step - loss: 0.3281 - accuracy: 0.8814 - val_loss: 0.3746 - val_accuracy: 0.8675\n",
            "Epoch 6/30\n",
            "60000/60000 [==============================] - 7s 109us/step - loss: 0.3136 - accuracy: 0.8860 - val_loss: 0.4052 - val_accuracy: 0.8634\n",
            "Epoch 7/30\n",
            "60000/60000 [==============================] - 7s 109us/step - loss: 0.3028 - accuracy: 0.8892 - val_loss: 0.3645 - val_accuracy: 0.8752\n",
            "Epoch 8/30\n",
            "60000/60000 [==============================] - 7s 109us/step - loss: 0.2926 - accuracy: 0.8935 - val_loss: 0.3648 - val_accuracy: 0.8733\n",
            "Epoch 9/30\n",
            "60000/60000 [==============================] - 7s 109us/step - loss: 0.2885 - accuracy: 0.8945 - val_loss: 0.3602 - val_accuracy: 0.8731\n",
            "Epoch 10/30\n",
            "60000/60000 [==============================] - 7s 108us/step - loss: 0.2792 - accuracy: 0.8979 - val_loss: 0.3554 - val_accuracy: 0.8756\n",
            "Epoch 11/30\n",
            "60000/60000 [==============================] - 7s 109us/step - loss: 0.2692 - accuracy: 0.9008 - val_loss: 0.3509 - val_accuracy: 0.8774\n",
            "Epoch 12/30\n",
            "60000/60000 [==============================] - 7s 110us/step - loss: 0.2628 - accuracy: 0.9037 - val_loss: 0.3357 - val_accuracy: 0.8829\n",
            "Epoch 13/30\n",
            "60000/60000 [==============================] - 7s 111us/step - loss: 0.2605 - accuracy: 0.9042 - val_loss: 0.3518 - val_accuracy: 0.8791\n",
            "Epoch 14/30\n",
            "60000/60000 [==============================] - 7s 110us/step - loss: 0.2529 - accuracy: 0.9057 - val_loss: 0.3616 - val_accuracy: 0.8796\n",
            "Epoch 15/30\n",
            "60000/60000 [==============================] - 7s 110us/step - loss: 0.2519 - accuracy: 0.9074 - val_loss: 0.3415 - val_accuracy: 0.8827\n",
            "Epoch 16/30\n",
            "60000/60000 [==============================] - 7s 109us/step - loss: 0.2433 - accuracy: 0.9100 - val_loss: 0.3498 - val_accuracy: 0.8864\n",
            "Epoch 17/30\n",
            "60000/60000 [==============================] - 7s 109us/step - loss: 0.2428 - accuracy: 0.9102 - val_loss: 0.3596 - val_accuracy: 0.8798\n",
            "Epoch 18/30\n",
            "60000/60000 [==============================] - 7s 109us/step - loss: 0.2378 - accuracy: 0.9099 - val_loss: 0.3887 - val_accuracy: 0.8795\n",
            "Epoch 19/30\n",
            "60000/60000 [==============================] - 7s 109us/step - loss: 0.2341 - accuracy: 0.9130 - val_loss: 0.3616 - val_accuracy: 0.8810\n",
            "Epoch 20/30\n",
            "60000/60000 [==============================] - 7s 113us/step - loss: 0.2346 - accuracy: 0.9128 - val_loss: 0.3681 - val_accuracy: 0.8802\n",
            "Epoch 21/30\n",
            "60000/60000 [==============================] - 7s 109us/step - loss: 0.2294 - accuracy: 0.9145 - val_loss: 0.3684 - val_accuracy: 0.8828\n",
            "Epoch 22/30\n",
            "60000/60000 [==============================] - 7s 109us/step - loss: 0.2263 - accuracy: 0.9168 - val_loss: 0.3621 - val_accuracy: 0.8788\n",
            "Epoch 23/30\n",
            "60000/60000 [==============================] - 7s 109us/step - loss: 0.2258 - accuracy: 0.9165 - val_loss: 0.3612 - val_accuracy: 0.8803\n",
            "Epoch 24/30\n",
            "60000/60000 [==============================] - 7s 109us/step - loss: 0.2216 - accuracy: 0.9172 - val_loss: 0.3771 - val_accuracy: 0.8846\n",
            "Epoch 25/30\n",
            "60000/60000 [==============================] - 7s 110us/step - loss: 0.2171 - accuracy: 0.9189 - val_loss: 0.3533 - val_accuracy: 0.8868\n",
            "Epoch 26/30\n",
            "60000/60000 [==============================] - 7s 111us/step - loss: 0.2170 - accuracy: 0.9198 - val_loss: 0.3600 - val_accuracy: 0.8822\n",
            "Epoch 27/30\n",
            "60000/60000 [==============================] - 7s 109us/step - loss: 0.2126 - accuracy: 0.9211 - val_loss: 0.3743 - val_accuracy: 0.8851\n",
            "Epoch 28/30\n",
            "60000/60000 [==============================] - 7s 109us/step - loss: 0.2119 - accuracy: 0.9213 - val_loss: 0.3643 - val_accuracy: 0.8883\n",
            "Epoch 29/30\n",
            "60000/60000 [==============================] - 6s 108us/step - loss: 0.2055 - accuracy: 0.9236 - val_loss: 0.3885 - val_accuracy: 0.8841\n",
            "Epoch 30/30\n",
            "60000/60000 [==============================] - 7s 108us/step - loss: 0.2061 - accuracy: 0.9229 - val_loss: 0.3720 - val_accuracy: 0.8882\n"
          ],
          "name": "stdout"
        }
      ]
    },
    {
      "cell_type": "code",
      "metadata": {
        "id": "ZKiYAk1idgwI",
        "colab_type": "code",
        "outputId": "99c15566-4a65-498a-9295-efe65286862b",
        "colab": {
          "base_uri": "https://localhost:8080/",
          "height": 1000
        }
      },
      "source": [
        "history_batch_norm = batch_norm_model.fit(train_images, train_labels, epochs=30, validation_data = (test_images, test_labels))"
      ],
      "execution_count": 0,
      "outputs": [
        {
          "output_type": "stream",
          "text": [
            "Train on 60000 samples, validate on 10000 samples\n",
            "Epoch 1/30\n",
            "60000/60000 [==============================] - 8s 135us/step - loss: 0.4990 - accuracy: 0.8222 - val_loss: 0.4786 - val_accuracy: 0.8326\n",
            "Epoch 2/30\n",
            "60000/60000 [==============================] - 8s 132us/step - loss: 0.3860 - accuracy: 0.8582 - val_loss: 0.4285 - val_accuracy: 0.8390\n",
            "Epoch 3/30\n",
            "60000/60000 [==============================] - 8s 130us/step - loss: 0.3508 - accuracy: 0.8705 - val_loss: 0.4889 - val_accuracy: 0.8317\n",
            "Epoch 4/30\n",
            "60000/60000 [==============================] - 8s 131us/step - loss: 0.3310 - accuracy: 0.8773 - val_loss: 0.3486 - val_accuracy: 0.8726\n",
            "Epoch 5/30\n",
            "60000/60000 [==============================] - 8s 131us/step - loss: 0.3104 - accuracy: 0.8864 - val_loss: 0.3725 - val_accuracy: 0.8636\n",
            "Epoch 6/30\n",
            "60000/60000 [==============================] - 8s 129us/step - loss: 0.2968 - accuracy: 0.8892 - val_loss: 0.3331 - val_accuracy: 0.8813\n",
            "Epoch 7/30\n",
            "60000/60000 [==============================] - 8s 128us/step - loss: 0.2826 - accuracy: 0.8943 - val_loss: 0.3575 - val_accuracy: 0.8769\n",
            "Epoch 8/30\n",
            "60000/60000 [==============================] - 8s 128us/step - loss: 0.2698 - accuracy: 0.9004 - val_loss: 0.3422 - val_accuracy: 0.8753\n",
            "Epoch 9/30\n",
            "60000/60000 [==============================] - 8s 136us/step - loss: 0.2598 - accuracy: 0.9020 - val_loss: 0.3524 - val_accuracy: 0.8779\n",
            "Epoch 10/30\n",
            "60000/60000 [==============================] - 8s 135us/step - loss: 0.2501 - accuracy: 0.9057 - val_loss: 0.3440 - val_accuracy: 0.8764\n",
            "Epoch 11/30\n",
            "60000/60000 [==============================] - 8s 130us/step - loss: 0.2430 - accuracy: 0.9085 - val_loss: 0.3370 - val_accuracy: 0.8863\n",
            "Epoch 12/30\n",
            "60000/60000 [==============================] - 8s 131us/step - loss: 0.2342 - accuracy: 0.9122 - val_loss: 0.3455 - val_accuracy: 0.8797\n",
            "Epoch 13/30\n",
            "60000/60000 [==============================] - 8s 130us/step - loss: 0.2278 - accuracy: 0.9136 - val_loss: 0.3399 - val_accuracy: 0.8819\n",
            "Epoch 14/30\n",
            "60000/60000 [==============================] - 8s 131us/step - loss: 0.2208 - accuracy: 0.9175 - val_loss: 0.3343 - val_accuracy: 0.8832\n",
            "Epoch 15/30\n",
            "60000/60000 [==============================] - 8s 132us/step - loss: 0.2137 - accuracy: 0.9199 - val_loss: 0.3888 - val_accuracy: 0.8748\n",
            "Epoch 16/30\n",
            "60000/60000 [==============================] - 8s 131us/step - loss: 0.2094 - accuracy: 0.9209 - val_loss: 0.3360 - val_accuracy: 0.8887\n",
            "Epoch 17/30\n",
            "60000/60000 [==============================] - 8s 130us/step - loss: 0.2041 - accuracy: 0.9225 - val_loss: 0.3480 - val_accuracy: 0.8839\n",
            "Epoch 18/30\n",
            "60000/60000 [==============================] - 8s 131us/step - loss: 0.1999 - accuracy: 0.9250 - val_loss: 0.3877 - val_accuracy: 0.8749\n",
            "Epoch 19/30\n",
            "60000/60000 [==============================] - 8s 131us/step - loss: 0.1954 - accuracy: 0.9258 - val_loss: 0.3235 - val_accuracy: 0.8898\n",
            "Epoch 20/30\n",
            "60000/60000 [==============================] - 8s 130us/step - loss: 0.1883 - accuracy: 0.9288 - val_loss: 0.3525 - val_accuracy: 0.8841\n",
            "Epoch 21/30\n",
            "60000/60000 [==============================] - 8s 131us/step - loss: 0.1822 - accuracy: 0.9308 - val_loss: 0.3513 - val_accuracy: 0.8830\n",
            "Epoch 22/30\n",
            "60000/60000 [==============================] - 8s 131us/step - loss: 0.1795 - accuracy: 0.9320 - val_loss: 0.3473 - val_accuracy: 0.8916\n",
            "Epoch 23/30\n",
            "60000/60000 [==============================] - 8s 131us/step - loss: 0.1734 - accuracy: 0.9342 - val_loss: 0.4085 - val_accuracy: 0.8753\n",
            "Epoch 24/30\n",
            "60000/60000 [==============================] - 8s 130us/step - loss: 0.1686 - accuracy: 0.9354 - val_loss: 0.3588 - val_accuracy: 0.8873\n",
            "Epoch 25/30\n",
            "60000/60000 [==============================] - 8s 133us/step - loss: 0.1666 - accuracy: 0.9366 - val_loss: 0.3415 - val_accuracy: 0.8889\n",
            "Epoch 26/30\n",
            "60000/60000 [==============================] - 8s 131us/step - loss: 0.1603 - accuracy: 0.9390 - val_loss: 0.3549 - val_accuracy: 0.8842\n",
            "Epoch 27/30\n",
            "60000/60000 [==============================] - 8s 131us/step - loss: 0.1576 - accuracy: 0.9402 - val_loss: 0.3462 - val_accuracy: 0.8874\n",
            "Epoch 28/30\n",
            "60000/60000 [==============================] - 8s 132us/step - loss: 0.1536 - accuracy: 0.9417 - val_loss: 0.3767 - val_accuracy: 0.8851\n",
            "Epoch 29/30\n",
            "60000/60000 [==============================] - 8s 132us/step - loss: 0.1519 - accuracy: 0.9429 - val_loss: 0.3839 - val_accuracy: 0.8907\n",
            "Epoch 30/30\n",
            "60000/60000 [==============================] - 8s 130us/step - loss: 0.1469 - accuracy: 0.9442 - val_loss: 0.3836 - val_accuracy: 0.8878\n"
          ],
          "name": "stdout"
        }
      ]
    },
    {
      "cell_type": "code",
      "metadata": {
        "id": "ELNRIlvudpRi",
        "colab_type": "code",
        "outputId": "3506ff48-e967-42dd-cc02-478d595b6cd1",
        "colab": {
          "base_uri": "https://localhost:8080/",
          "height": 404
        }
      },
      "source": [
        "def plot(history_base,history_dropout,history_batch_norm):\n",
        "  \n",
        "  # The history object contains results on the training and test\n",
        "  # sets for each epoch\n",
        "\n",
        "  acc_base = history_base.history['accuracy']\n",
        "  val_acc_base = history_base.history['val_accuracy']\n",
        "\n",
        "  acc_dropout = history_dropout.history['accuracy']\n",
        "  val_acc_dropout = history_dropout.history['val_accuracy']\n",
        "\n",
        "  acc_batch_norm = history_batch_norm.history['accuracy']\n",
        "  val_acc_batch_norm = history_batch_norm.history['val_accuracy']\n",
        "\n",
        "  # Get the number of epochs\n",
        "  epochs = range(len(acc_base))\n",
        "\n",
        "  fig, ax = plt.subplots(nrows = 1, ncols = 3, figsize=(20, 6))\n",
        "\n",
        "  ax[0].set_title('Baseline model')\n",
        "  ax[0].plot(epochs, acc_base, color='blue', label='Train')\n",
        "  ax[0].plot(epochs, val_acc_base, color='orange', label='Val')\n",
        "  ax[0].set_xlabel('Epoch')\n",
        "  ax[0].set_ylabel('Accuracy')\n",
        "  ax[0].legend()\n",
        "\n",
        "  ax[1].set_title('Dropout model')\n",
        "  ax[1].plot(epochs, acc_dropout, color='blue', label='Train')\n",
        "  ax[1].plot(epochs, val_acc_dropout, color='orange', label='Val')\n",
        "  ax[1].set_xlabel('Epoch')\n",
        "  ax[1].set_ylabel('Accuracy')\n",
        "  ax[1].legend()\n",
        "\n",
        "\n",
        "  ax[2].set_title('Batch normalization model')\n",
        "  ax[2].plot(epochs, acc_batch_norm, color='blue', label='Train')\n",
        "  ax[2].plot(epochs, val_acc_batch_norm, color='orange', label='Val')\n",
        "  ax[2].set_xlabel('Epoch')\n",
        "  ax[2].set_ylabel('Accuracy')\n",
        "  ax[2].legend()\n",
        "  \n",
        "  \n",
        "plot(history_base,history_dropout,history_batch_norm)"
      ],
      "execution_count": 0,
      "outputs": [
        {
          "output_type": "display_data",
          "data": {
            "image/png": "[encoded data removed]",
            "text/plain": [
              "<Figure size 1440x432 with 3 Axes>"
            ]
          },
          "metadata": {
            "tags": [],
            "needs_background": "light"
          }
        }
      ]
    },
    {
      "cell_type": "markdown",
      "metadata": {
        "id": "_ZB8k0aB7suC",
        "colab_type": "text"
      },
      "source": [
        "As stated above, BatchNormalization helps improve the accuracy a bit. Here we can see that, addition of Dropout and BatchNormalization layers, helps to prevent overfitting in a deeper network. Our baseline model has just one hidden layer, and so there is no overfitting issue, but the other deeper models we able to perform better than the baseline model in terms of accuracy and loss values, because of using Dropout and BatchNormalization techniques."
      ]
    }
  ]
}